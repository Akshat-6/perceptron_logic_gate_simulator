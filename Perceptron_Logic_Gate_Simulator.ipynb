{
  "nbformat": 4,
  "nbformat_minor": 0,
  "metadata": {
    "colab": {
      "provenance": []
    },
    "kernelspec": {
      "name": "python3",
      "display_name": "Python 3"
    },
    "language_info": {
      "name": "python"
    }
  },
  "cells": [
    {
      "cell_type": "code",
      "source": [
        "import numpy as np\n",
        "\n",
        "class Perceptron:\n",
        "    def __init__(self, input_size, learning_rate=0.1):\n",
        "        self.weights = np.random.rand(input_size)\n",
        "        self.bias = np.random.rand()\n",
        "        self.learning_rate = learning_rate\n",
        "\n",
        "    def activation(self, x):\n",
        "        return 1 if x >= 0 else 0\n",
        "\n",
        "    def predict(self, inputs):\n",
        "        summation = np.dot(inputs, self.weights) + self.bias\n",
        "        return self.activation(summation)\n",
        "\n",
        "    def train(self, inputs, target):\n",
        "        prediction = self.predict(inputs)\n",
        "        error = target - prediction\n",
        "        self.weights += self.learning_rate * error * inputs\n",
        "        self.bias += self.learning_rate * error\n",
        "\n",
        "# 1. Binary Classification\n",
        "inputs = np.array([[0, 0], [0, 1], [1, 0], [1, 1]])\n",
        "targets_and = np.array([0, 0, 0, 1])  # Example: AND gate\n",
        "\n",
        "perceptron_and = Perceptron(2)\n",
        "epochs = 100\n",
        "\n",
        "for _ in range(epochs):\n",
        "    for i in range(len(inputs)):\n",
        "      perceptron_and.train(inputs[i], targets_and[i])\n",
        "\n",
        "print(\"AND Gate:\")\n",
        "for i in range(len(inputs)):\n",
        "    print(f\"Input: {inputs[i]}, Output: {perceptron_and.predict(inputs[i])}\")\n"
      ],
      "metadata": {
        "colab": {
          "base_uri": "https://localhost:8080/"
        },
        "id": "oEz2JnXgycnh",
        "outputId": "87e3d2da-8634-4d80-d6d1-4480634aa822"
      },
      "execution_count": null,
      "outputs": [
        {
          "output_type": "stream",
          "name": "stdout",
          "text": [
            "AND Gate:\n",
            "Input: [0 0], Output: 0\n",
            "Input: [0 1], Output: 0\n",
            "Input: [1 0], Output: 0\n",
            "Input: [1 1], Output: 1\n"
          ]
        }
      ]
    },
    {
      "cell_type": "code",
      "source": [
        "# 2. Basic Logic Gates (AND, OR, NOT)\n",
        "# (AND is shown above)\n",
        "\n",
        "# OR Gate\n",
        "targets_or = np.array([0, 1, 1, 1])\n",
        "perceptron_or = Perceptron(2)\n",
        "for _ in range(epochs):\n",
        "    for i in range(len(inputs)):\n",
        "        perceptron_or.train(inputs[i], targets_or[i])\n",
        "\n",
        "print(\"\\nOR Gate:\")\n",
        "for i in range(len(inputs)):\n",
        "    print(f\"Input: {inputs[i]}, Output: {perceptron_or.predict(inputs[i])}\")\n",
        "\n",
        "\n",
        "# NOT Gate (single input)\n",
        "not_inputs = np.array([[0], [1]])\n",
        "not_targets = np.array([1, 0])\n",
        "perceptron_not = Perceptron(1)\n",
        "\n",
        "for _ in range(epochs):\n",
        "    for i in range(len(not_inputs)):\n",
        "        perceptron_not.train(not_inputs[i], not_targets[i])\n",
        "\n",
        "print(\"\\nNOT Gate:\")\n",
        "for i in range(len(not_inputs)):\n",
        "    print(f\"Input: {not_inputs[i]}, Output: {perceptron_not.predict(not_inputs[i])}\")"
      ],
      "metadata": {
        "colab": {
          "base_uri": "https://localhost:8080/"
        },
        "id": "QHBaYwanxosq",
        "outputId": "dd81abfd-a59b-4fe6-8ac6-704e308ed179"
      },
      "execution_count": null,
      "outputs": [
        {
          "output_type": "stream",
          "name": "stdout",
          "text": [
            "\n",
            "OR Gate:\n",
            "Input: [0 0], Output: 0\n",
            "Input: [0 1], Output: 1\n",
            "Input: [1 0], Output: 1\n",
            "Input: [1 1], Output: 1\n",
            "\n",
            "NOT Gate:\n",
            "Input: [0], Output: 1\n",
            "Input: [1], Output: 0\n"
          ]
        }
      ]
    },
    {
      "cell_type": "code",
      "source": [
        "# 3. Complex Logic Gates (NAND, NOR, XOR, XNOR)\n",
        "targets_xor = np.array([0, 1, 1, 0])\n",
        "perceptron_xor = Perceptron(2)\n",
        "for _ in range(epochs):\n",
        "    for i in range(len(inputs)):\n",
        "        perceptron_xor.train(inputs[i], targets_xor[i])\n",
        "print(\"\\nXOR Gate (Approximation):\") # will likely not be accurate\n",
        "for i in range(len(inputs)):\n",
        "    print(f\"Input: {inputs[i]}, Output: {perceptron_xor.predict(inputs[i])}\")\n",
        "\n",
        "# NAND Gate\n",
        "targets_nand = np.array([1, 1, 1, 0])\n",
        "perceptron_nand = Perceptron(2)\n",
        "for _ in range(epochs):\n",
        "    for i in range(len(inputs)):\n",
        "        perceptron_nand.train(inputs[i], targets_nand[i])\n",
        "\n",
        "print(\"\\nNAND Gate:\")\n",
        "for i in range(len(inputs)):\n",
        "    print(f\"Input: {inputs[i]}, Output: {perceptron_nand.predict(inputs[i])}\")\n",
        "\n",
        "# NOR Gate\n",
        "targets_nor = np.array([1, 0, 0, 0])\n",
        "perceptron_nor = Perceptron(2)\n",
        "for _ in range(epochs):\n",
        "    for i in range(len(inputs)):\n",
        "        perceptron_nor.train(inputs[i], targets_nor[i])\n",
        "\n",
        "print(\"\\nNOR Gate:\")\n",
        "for i in range(len(inputs)):\n",
        "    print(f\"Input: {inputs[i]}, Output: {perceptron_nor.predict(inputs[i])}\")\n",
        "\n",
        "# XNOR Gate\n",
        "targets_xnor = np.array([1, 0, 0, 1])\n",
        "perceptron_xnor = Perceptron(2)\n",
        "for _ in range(epochs):\n",
        "    for i in range(len(inputs)):\n",
        "        perceptron_xnor.train(inputs[i], targets_xnor[i])\n",
        "\n",
        "print(\"\\nXNOR Gate (Approximation):\") # will likely not be accurate\n",
        "for i in range(len(inputs)):\n",
        "    print(f\"Input: {inputs[i]}, Output: {perceptron_xnor.predict(inputs[i])}\")\n"
      ],
      "metadata": {
        "colab": {
          "base_uri": "https://localhost:8080/"
        },
        "id": "RNRBJdfzyMJ8",
        "outputId": "b39d0e21-7e52-4654-cd0f-d6a3f4a1fb15"
      },
      "execution_count": null,
      "outputs": [
        {
          "output_type": "stream",
          "name": "stdout",
          "text": [
            "\n",
            "XOR Gate (Approximation):\n",
            "Input: [0 0], Output: 1\n",
            "Input: [0 1], Output: 1\n",
            "Input: [1 0], Output: 0\n",
            "Input: [1 1], Output: 0\n",
            "\n",
            "NAND Gate:\n",
            "Input: [0 0], Output: 1\n",
            "Input: [0 1], Output: 1\n",
            "Input: [1 0], Output: 1\n",
            "Input: [1 1], Output: 0\n",
            "\n",
            "NOR Gate:\n",
            "Input: [0 0], Output: 1\n",
            "Input: [0 1], Output: 0\n",
            "Input: [1 0], Output: 0\n",
            "Input: [1 1], Output: 0\n",
            "\n",
            "XNOR Gate (Approximation):\n",
            "Input: [0 0], Output: 0\n",
            "Input: [0 1], Output: 1\n",
            "Input: [1 0], Output: 1\n",
            "Input: [1 1], Output: 1\n"
          ]
        }
      ]
    },
    {
      "cell_type": "code",
      "source": [],
      "metadata": {
        "id": "Fyu5eRnpx_DO"
      },
      "execution_count": null,
      "outputs": []
    }
  ]
}